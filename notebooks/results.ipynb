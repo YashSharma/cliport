{
 "cells": [
  {
   "cell_type": "markdown",
   "metadata": {},
   "source": [
    "# Results\n",
    "\n",
    "This notebook gathers results from evaluation JSON files and prints them as a list. \n",
    "\n",
    "### Setup\n",
    "\n",
    "- Set the root folder environment variable with `export CLIPORT_ROOT=<cliport_root>`\n",
    "- Train and evaluate agents by following the [README guide](https://github.com/cliport/cliport#single-task-training--evaluation)."
   ]
  },
  {
   "cell_type": "code",
   "execution_count": 1,
   "metadata": {},
   "outputs": [
    {
     "name": "stderr",
     "output_type": "stream",
     "text": [
      "2023-10-12 16:40:49.452175: W tensorflow/stream_executor/platform/default/dso_loader.cc:59] Could not load dynamic library 'libcudart.so.10.1'; dlerror: libcudart.so.10.1: cannot open shared object file: No such file or directory; LD_LIBRARY_PATH: /apps/software/standard/compiler/gcc/9.2.0/nodejs/12.14.1/lib:/apps/software/standard/core/gcc/9.2.0/lib/gcc/x86_64-pc-linux-gnu/9.2.0:/apps/software/standard/core/gcc/9.2.0/lib64:/apps/software/standard/core/gcc/9.2.0/lib:/opt/slurm/current/lib:/share/rci_apps/common/lib64\n",
      "2023-10-12 16:40:49.452234: I tensorflow/stream_executor/cuda/cudart_stub.cc:29] Ignore above cudart dlerror if you do not have a GPU set up on your machine.\n",
      "/home/ys5hd/.local/lib/python3.8/site-packages/tqdm/auto.py:22: TqdmWarning: IProgress not found. Please update jupyter and ipywidgets. See https://ipywidgets.readthedocs.io/en/stable/user_install.html\n",
      "  from .autonotebook import tqdm as notebook_tqdm\n"
     ]
    }
   ],
   "source": [
    "import os\n",
    "import sys\n",
    "import json\n",
    "\n",
    "from cliport import agents\n",
    "from cliport import tasks"
   ]
  },
  {
   "cell_type": "markdown",
   "metadata": {},
   "source": [
    "### Settings"
   ]
  },
  {
   "cell_type": "code",
   "execution_count": 2,
   "metadata": {},
   "outputs": [],
   "source": [
    "import os\n",
    "os.environ['CLIPORT_ROOT'] = '/sfs/weka/scratch/ys5hd/cliport'\n",
    "\n",
    "root_folder = os.environ['CLIPORT_ROOT']\n",
    "exp_folder = os.path.join(root_folder, 'cliport_quickstart') # replace 'cliport_quickstart' with your exps folder"
   ]
  },
  {
   "cell_type": "markdown",
   "metadata": {},
   "source": [
    "### Gather JSON Results"
   ]
  },
  {
   "cell_type": "code",
   "execution_count": 3,
   "metadata": {},
   "outputs": [],
   "source": [
    "tasks_list = list(tasks.names.keys())\n",
    "agents_list = list(agents.names.keys())\n",
    "demos_list = [1, 10, 100, 1000]\n",
    "\n",
    "results = {}\n",
    "for t in tasks_list:\n",
    "    for a in agents_list:\n",
    "        for d in demos_list:\n",
    "            task_folder = f'{t}-{a}-n{d}-train'\n",
    "            task_folder_path = os.path.join(exp_folder, task_folder, 'checkpoints')\n",
    "\n",
    "            if os.path.exists(task_folder_path):\n",
    "                jsons = [f for f in os.listdir(task_folder_path) if '.json' in f]\n",
    "                for j in jsons:\n",
    "                    model_type = 'multi' if 'multi' in j else 'single'\n",
    "                    eval_type = 'val' if 'val' in j else 'test'\n",
    "                    \n",
    "                    with open(os.path.join(task_folder_path, j)) as f:\n",
    "                        res = json.load(f)\n",
    "                    \n",
    "                    results[f'{t}-{a}-n{d}-{model_type}-{eval_type}'] = res"
   ]
  },
  {
   "cell_type": "code",
   "execution_count": 10,
   "metadata": {},
   "outputs": [
    {
     "data": {
      "text/plain": [
       "dict_keys(['stack-block-pyramid-seq-seen-colors-cliport-n1000-multi-test', 'stack-block-pyramid-seq-seen-colors-cliport-n1000-multi-val'])"
      ]
     },
     "execution_count": 10,
     "metadata": {},
     "output_type": "execute_result"
    }
   ],
   "source": [
    "results.keys()"
   ]
  },
  {
   "cell_type": "code",
   "execution_count": 34,
   "metadata": {},
   "outputs": [
    {
     "data": {
      "text/plain": [
       "[0.9999999999999999,\n",
       " {'5': [[0.5843750000000001, 0.125, 0.0025],\n",
       "   [0.0, 0.0, 0.9830140325787236, 0.18353041097680883],\n",
       "   [0.05, 0.05, 0.005]],\n",
       "  '6': [[0.6020428591072722, 0.17428179138594824, 0.02499001815950449],\n",
       "   [-9.580712303505592e-07,\n",
       "    7.362469967571153e-07,\n",
       "    -0.19084821078731384,\n",
       "    0.9816195599303332],\n",
       "   [0.04, 0.04, 0.04]],\n",
       "  '7': [[0.5875747033351035, 0.12578922976810689, 0.024989973787982976],\n",
       "   [2.2069486014429927e-06,\n",
       "    -2.0821136550253833e-07,\n",
       "    0.5461998675216455,\n",
       "    0.8376548840151431],\n",
       "   [0.04, 0.04, 0.04]],\n",
       "  '8': [[0.56939774839501, 0.07805020953598153, 0.024989760536879298],\n",
       "   [3.2709270734519392e-06,\n",
       "    -4.512937264569032e-06,\n",
       "    0.5405700888255509,\n",
       "    0.8412989831421827],\n",
       "   [0.04, 0.04, 0.04]],\n",
       "  '9': [[0.5944270013957793, 0.1440924389947819, 0.06497878183527833],\n",
       "   [2.6694128470635445e-05,\n",
       "    -5.631892994313575e-06,\n",
       "    0.5654753612891443,\n",
       "    0.8247651878144573],\n",
       "   [0.04, 0.04, 0.04]],\n",
       "  '10': [[0.5811886040666713, 0.1000471496745445, 0.06497787560777338],\n",
       "   [9.869266859346978e-06,\n",
       "    1.963543979861495e-05,\n",
       "    0.5903257292815748,\n",
       "    0.8071651211897254],\n",
       "   [0.04, 0.04, 0.04]],\n",
       "  '11': [[0.5874192919741746, 0.12629949745949498, 0.10496819110816324],\n",
       "   [1.53081407462133e-05,\n",
       "    2.0102075473419257e-05,\n",
       "    -0.1955836349748557,\n",
       "    0.9806870250449885],\n",
       "   [0.04, 0.04, 0.04]],\n",
       "  'lang_goal': 'done stacking block pyramid.'}]"
      ]
     },
     "execution_count": 34,
     "metadata": {},
     "output_type": "execute_result"
    }
   ],
   "source": [
    "results['stack-block-pyramid-seq-seen-colors-cliport-n1000-multi-test']['steps=400000-val_loss=0.00014655.ckpt']['episodes'][10]"
   ]
  },
  {
   "cell_type": "code",
   "execution_count": null,
   "metadata": {},
   "outputs": [],
   "source": []
  },
  {
   "cell_type": "code",
   "execution_count": null,
   "metadata": {},
   "outputs": [],
   "source": []
  },
  {
   "cell_type": "markdown",
   "metadata": {},
   "source": [
    "### Print Results"
   ]
  },
  {
   "cell_type": "code",
   "execution_count": 16,
   "metadata": {},
   "outputs": [
    {
     "name": "stdout",
     "output_type": "stream",
     "text": [
      "Experiments folder: /sfs/weka/scratch/ys5hd/cliport/cliport_quickstart\n",
      "\n",
      "----- VAL -----\n",
      "\n",
      "stack-block-pyramid-seq-seen-colors | Train Demos: 1000\n",
      "\t97.3 : cliport | multi\n",
      "\n",
      "----- TEST -----\n",
      "\n",
      "stack-block-pyramid-seq-seen-colors | Train Demos: 1000\n",
      "\t96.5 : cliport | multi\n",
      "\n"
     ]
    }
   ],
   "source": [
    "print(f'Experiments folder: {exp_folder}\\n')\n",
    "\n",
    "for eval_type in ['val', 'test']:\n",
    "    print(f'----- {eval_type.upper()} -----\\n')\n",
    "    for t in tasks_list:\n",
    "        for a in agents_list:\n",
    "            for d in demos_list:\n",
    "                for model_type in ['single', 'multi']:\n",
    "                    eval_key = f'{t}-{a}-n{d}-{model_type}-{eval_type}'\n",
    "                    \n",
    "                    if eval_key in results:    \n",
    "                        print(f'{t} | Train Demos: {d}')\n",
    "                        \n",
    "                        res = results[eval_key]\n",
    "                        best_score, best_ckpt = max(zip([v['mean_reward'] for v in list(res.values())], \n",
    "                                                        res.keys())) # TODO: test that this works for full results folder\n",
    "                        \n",
    "                        print(f'\\t{best_score*100:1.1f} : {a} | {model_type}\\n')                        "
   ]
  },
  {
   "cell_type": "code",
   "execution_count": 18,
   "metadata": {},
   "outputs": [
    {
     "ename": "KeyError",
     "evalue": "'towers-of-hanoi-seq-full-two_stream_clip_film_lingunet_lat_transporter-n1000-multi-test'",
     "output_type": "error",
     "traceback": [
      "\u001b[0;31m---------------------------------------------------------------------------\u001b[0m",
      "\u001b[0;31mKeyError\u001b[0m                                  Traceback (most recent call last)",
      "\u001b[0;32m/tmp/ipykernel_186193/3578841831.py\u001b[0m in \u001b[0;36m<module>\u001b[0;34m\u001b[0m\n\u001b[0;32m----> 1\u001b[0;31m \u001b[0mresults\u001b[0m\u001b[0;34m[\u001b[0m\u001b[0meval_key\u001b[0m\u001b[0;34m]\u001b[0m\u001b[0;34m\u001b[0m\u001b[0;34m\u001b[0m\u001b[0m\n\u001b[0m",
      "\u001b[0;31mKeyError\u001b[0m: 'towers-of-hanoi-seq-full-two_stream_clip_film_lingunet_lat_transporter-n1000-multi-test'"
     ]
    }
   ],
   "source": [
    "results[eval_key]"
   ]
  },
  {
   "cell_type": "code",
   "execution_count": null,
   "metadata": {},
   "outputs": [],
   "source": []
  }
 ],
 "metadata": {
  "kernelspec": {
   "display_name": "pytorch_yash",
   "language": "python",
   "name": "pytorch_yash"
  },
  "language_info": {
   "codemirror_mode": {
    "name": "ipython",
    "version": 3
   },
   "file_extension": ".py",
   "mimetype": "text/x-python",
   "name": "python",
   "nbconvert_exporter": "python",
   "pygments_lexer": "ipython3",
   "version": "3.8.12"
  }
 },
 "nbformat": 4,
 "nbformat_minor": 5
}
